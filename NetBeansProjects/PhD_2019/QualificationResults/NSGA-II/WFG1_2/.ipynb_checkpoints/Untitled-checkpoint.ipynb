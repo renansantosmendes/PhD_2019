{
 "cells": [
  {
   "cell_type": "code",
   "execution_count": 38,
   "metadata": {},
   "outputs": [],
   "source": [
    "from mpl_toolkits.mplot3d import Axes3D \n",
    "from matplotlib.ticker import ScalarFormatter\n",
    "import matplotlib.pyplot as plt\n",
    "import numpy as np\n",
    "\n",
    "\n",
    "def read_solutions(file):\n",
    "    data = pd.read_csv(file, delimiter=',',header=None)\n",
    "    # return data.values.tolist()\n",
    "    return data"
   ]
  },
  {
   "cell_type": "code",
   "execution_count": 34,
   "metadata": {},
   "outputs": [],
   "source": [
    "solutions = read_solutions('CombinedParetoR2.csv')\n",
    "y = solutions[0]\n",
    "x = solutions[1]"
   ]
  },
  {
   "cell_type": "code",
   "execution_count": 35,
   "metadata": {},
   "outputs": [
    {
     "name": "stdout",
     "output_type": "stream",
     "text": [
      "(251, 3)\n"
     ]
    }
   ],
   "source": [
    "solutions.head()\n",
    "print(solutions.shape)"
   ]
  },
  {
   "cell_type": "code",
   "execution_count": 36,
   "metadata": {},
   "outputs": [
    {
     "data": {
      "image/png": "[encoded data removed]",
      "text/plain": [
       "<matplotlib.figure.Figure at 0x7fdbf15da9b0>"
      ]
     },
     "metadata": {},
     "output_type": "display_data"
    }
   ],
   "source": [
    "# plt.plot(x,y)\n",
    "plt.scatter(x, y, color='blue',label='NSGA-II')\n",
    "plt.ylabel('Objective Function 1')\n",
    "plt.xlabel('Objective Function 2')\n",
    "plt.legend(loc='upper right')\n",
    "plt.show()"
   ]
  },
  {
   "cell_type": "code",
   "execution_count": 37,
   "metadata": {},
   "outputs": [],
   "source": [
    "solutions = read_solutions('CombinedParetoR3.csv')\n",
    "z = solutions[2]\n",
    "y = solutions[1]\n",
    "x = solutions[0]"
   ]
  },
  {
   "cell_type": "code",
   "execution_count": null,
   "metadata": {},
   "outputs": [],
   "source": [
    "fig = plt.figure()\n",
    "ax = fig.gca(projection='3d')\n",
    "\n",
    "ax.scatter(x, y, z, marker='o',color='blue',label='NSGA-II')\n",
    "ax.set_xlabel('Objective Function 1')\n",
    "# ax.get_xaxis().get_major_formatter().set_useOffset(ScalarFormatter(useMathText=True))\n",
    "\n",
    "ax.set_ylabel('Objective Function 2')\n",
    "ax.set_zlabel('Objective Function 3')\n",
    "\n",
    "# -------------------------------------------------------------------------------------------\n",
    "\n",
    "\n",
    "\n",
    "plt.legend(loc='upper right')\n",
    "\n",
    "plt.show()"
   ]
  }
 ],
 "metadata": {
  "kernelspec": {
   "display_name": "Python 3",
   "language": "python",
   "name": "python3"
  },
  "language_info": {
   "codemirror_mode": {
    "name": "ipython",
    "version": 3
   },
   "file_extension": ".py",
   "mimetype": "text/x-python",
   "name": "python",
   "nbconvert_exporter": "python",
   "pygments_lexer": "ipython3",
   "version": "3.4.3"
  }
 },
 "nbformat": 4,
 "nbformat_minor": 2
}
